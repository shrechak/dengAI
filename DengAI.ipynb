{
 "cells": [
  {
   "cell_type": "code",
   "execution_count": 1,
   "metadata": {},
   "outputs": [
    {
     "name": "stderr",
     "output_type": "stream",
     "text": [
      "/home/shreya/anaconda3/lib/python3.6/site-packages/h5py/__init__.py:36: FutureWarning: Conversion of the second argument of issubdtype from `float` to `np.floating` is deprecated. In future, it will be treated as `np.float64 == np.dtype(float).type`.\n",
      "  from ._conv import register_converters as _register_converters\n"
     ]
    }
   ],
   "source": [
    "import pandas as pd\n",
    "import tensorflow as tf\n",
    "import numpy as np\n",
    "from tensorflow.python.data import Dataset\n",
    "from sklearn import metrics\n",
    "from sklearn.preprocessing import MinMaxScaler"
   ]
  },
  {
   "cell_type": "markdown",
   "metadata": {},
   "source": [
    "# Read data"
   ]
  },
  {
   "cell_type": "code",
   "execution_count": 30,
   "metadata": {},
   "outputs": [
    {
     "name": "stdout",
     "output_type": "stream",
     "text": [
      "(1456, 24)\n"
     ]
    }
   ],
   "source": [
    "data = pd.read_csv(\"data/dengue_features_train.csv\")\n",
    "\n",
    "print(data.shape)\n",
    "# data.columns"
   ]
  },
  {
   "cell_type": "code",
   "execution_count": 31,
   "metadata": {},
   "outputs": [],
   "source": [
    "def convert_to_numeric_columns(dataset, cat_columns):\n",
    "    for x in cat_columns:\n",
    "        dataset[x] = dataset[x].astype('category')\n",
    "    dataset[cat_columns] = dataset[cat_columns].apply(lambda x: x.cat.codes)\n",
    "    return dataset"
   ]
  },
  {
   "cell_type": "code",
   "execution_count": 32,
   "metadata": {},
   "outputs": [],
   "source": [
    "data = convert_to_numeric_columns(data, ['city', 'year'])\n",
    "# data = data.drop(columns = ['week_start_date'], axis=1)"
   ]
  },
  {
   "cell_type": "code",
   "execution_count": 33,
   "metadata": {},
   "outputs": [
    {
     "name": "stdout",
     "output_type": "stream",
     "text": [
      "(1456, 4)\n"
     ]
    },
    {
     "data": {
      "text/plain": [
       "Index(['city', 'year', 'weekofyear', 'total_cases'], dtype='object')"
      ]
     },
     "execution_count": 33,
     "metadata": {},
     "output_type": "execute_result"
    }
   ],
   "source": [
    "labels_inp = pd.read_csv(\"data/dengue_labels_train.csv\")\n",
    "labels_inp = convert_to_numeric_columns(labels_inp, ['city', 'year'])\n",
    "\n",
    "print(labels_inp.shape)\n",
    "labels_inp.columns"
   ]
  },
  {
   "cell_type": "code",
   "execution_count": 34,
   "metadata": {},
   "outputs": [],
   "source": [
    "def feature_normalize(dataset):\n",
    "    mu = np.mean(dataset,axis=0)\n",
    "    sigma = np.std(dataset,axis=0)\n",
    "    return (dataset - mu)/sigma\n",
    "\n",
    "def normalise_decimal_feature(feature):\n",
    "    if isinstance(feature[0], float):\n",
    "        return feature_normalize(feature)\n",
    "    else:\n",
    "        return feature"
   ]
  },
  {
   "cell_type": "code",
   "execution_count": 35,
   "metadata": {},
   "outputs": [],
   "source": [
    "from sklearn.preprocessing import OneHotEncoder\n",
    "from sklearn.preprocessing import LabelEncoder"
   ]
  },
  {
   "cell_type": "code",
   "execution_count": 36,
   "metadata": {},
   "outputs": [],
   "source": [
    "def get_one_hot_vector(arr, column_name):\n",
    "    values = np.array(arr)\n",
    "    label_encoder = LabelEncoder()\n",
    "    integer_encoded = label_encoder.fit_transform(values)\n",
    "    onehot_encoder = OneHotEncoder(sparse=False)\n",
    "    integer_encoded = integer_encoded.reshape(len(integer_encoded), 1)\n",
    "    onehot_encoded = onehot_encoder.fit_transform(integer_encoded)\n",
    "    cols = list(map(lambda index: column_name + str(index), range(onehot_encoded.shape[1])))\n",
    "    return pd.DataFrame(onehot_encoded, columns=cols)\n",
    "#     return cols"
   ]
  },
  {
   "cell_type": "code",
   "execution_count": 39,
   "metadata": {},
   "outputs": [],
   "source": [
    "def convert_categorical_to_one_hot(dataframe, column_name):\n",
    "    output = get_one_hot_vector(dataframe[column_name], column_name)\n",
    "    result = pd.concat([dataframe,output], axis=1)#.drop(column_name, axis=1)\n",
    "    return result\n",
    "# output"
   ]
  },
  {
   "cell_type": "code",
   "execution_count": 44,
   "metadata": {},
   "outputs": [
    {
     "data": {
      "text/plain": [
       "Index(['city', 'year', 'weekofyear', 'week_start_date', 'ndvi_ne', 'ndvi_nw',\n",
       "       'ndvi_se', 'ndvi_sw', 'precipitation_amt_mm', 'reanalysis_air_temp_k',\n",
       "       'reanalysis_avg_temp_k', 'reanalysis_dew_point_temp_k',\n",
       "       'reanalysis_max_air_temp_k', 'reanalysis_min_air_temp_k',\n",
       "       'reanalysis_precip_amt_kg_per_m2',\n",
       "       'reanalysis_relative_humidity_percent', 'reanalysis_sat_precip_amt_mm',\n",
       "       'reanalysis_specific_humidity_g_per_kg', 'reanalysis_tdtr_k',\n",
       "       'station_avg_temp_c', 'station_diur_temp_rng_c', 'station_max_temp_c',\n",
       "       'station_min_temp_c', 'station_precip_mm', 'city0', 'city1',\n",
       "       'weekofyear0', 'weekofyear1', 'weekofyear2', 'weekofyear3',\n",
       "       'weekofyear4', 'weekofyear5', 'weekofyear6', 'weekofyear7',\n",
       "       'weekofyear8', 'weekofyear9', 'weekofyear10', 'weekofyear11',\n",
       "       'weekofyear12', 'weekofyear13', 'weekofyear14', 'weekofyear15',\n",
       "       'weekofyear16', 'weekofyear17', 'weekofyear18', 'weekofyear19',\n",
       "       'weekofyear20', 'weekofyear21', 'weekofyear22', 'weekofyear23',\n",
       "       'weekofyear24', 'weekofyear25', 'weekofyear26', 'weekofyear27',\n",
       "       'weekofyear28', 'weekofyear29', 'weekofyear30', 'weekofyear31',\n",
       "       'weekofyear32', 'weekofyear33', 'weekofyear34', 'weekofyear35',\n",
       "       'weekofyear36', 'weekofyear37', 'weekofyear38', 'weekofyear39',\n",
       "       'weekofyear40', 'weekofyear41', 'weekofyear42', 'weekofyear43',\n",
       "       'weekofyear44', 'weekofyear45', 'weekofyear46', 'weekofyear47',\n",
       "       'weekofyear48', 'weekofyear49', 'weekofyear50', 'weekofyear51',\n",
       "       'weekofyear52', 'year0', 'year1', 'year2', 'year3', 'year4', 'year5',\n",
       "       'year6', 'year7', 'year8', 'year9', 'year10', 'year11', 'year12',\n",
       "       'year13', 'year14', 'year15', 'year16', 'year17', 'year18', 'year19',\n",
       "       'year20'],\n",
       "      dtype='object')"
      ]
     },
     "execution_count": 44,
     "metadata": {},
     "output_type": "execute_result"
    }
   ],
   "source": [
    "data_output = data\n",
    "\n",
    "for column in [\"city\", \"weekofyear\", \"year\"]:\n",
    "    data_output = convert_categorical_to_one_hot(data_output, column)\n",
    "#     print(column)\n",
    "\n",
    "# data_output = data_output.drop(\"week_start_date\", axis=1)\n",
    "data_output.columns"
   ]
  },
  {
   "cell_type": "markdown",
   "metadata": {},
   "source": [
    "# Generate training data and labels"
   ]
  },
  {
   "cell_type": "code",
   "execution_count": 45,
   "metadata": {},
   "outputs": [],
   "source": [
    "# final_data = final_data.apply(lambda column: normalise_decimal_feature(column), axis=0)"
   ]
  },
  {
   "cell_type": "code",
   "execution_count": 46,
   "metadata": {},
   "outputs": [
    {
     "data": {
      "text/plain": [
       "(1456,)"
      ]
     },
     "execution_count": 46,
     "metadata": {},
     "output_type": "execute_result"
    }
   ],
   "source": [
    "final_data =  pd.merge(data_output,\n",
    "                 labels_inp,\n",
    "                 on=['city', 'year', 'weekofyear'],\n",
    "                 how='right')\n",
    "\n",
    "# Define the label.\n",
    "targets = final_data[\"total_cases\"]\n",
    "\n",
    "targets.shape"
   ]
  },
  {
   "cell_type": "code",
   "execution_count": 48,
   "metadata": {},
   "outputs": [],
   "source": [
    "final_data = final_data.drop(['city', 'year', 'weekofyear', 'week_start_date'], axis = 1)"
   ]
  },
  {
   "cell_type": "code",
   "execution_count": 49,
   "metadata": {},
   "outputs": [
    {
     "data": {
      "text/plain": [
       "(1456, 97)"
      ]
     },
     "execution_count": 49,
     "metadata": {},
     "output_type": "execute_result"
    }
   ],
   "source": [
    "# final_data = final_data[[u'city', u'year', u'weekofyear', u'ndvi_ne', u'ndvi_nw', u'ndvi_se',\n",
    "#        u'ndvi_sw', u'precipitation_amt_mm', u'reanalysis_air_temp_k',\n",
    "#        u'reanalysis_avg_temp_k', u'reanalysis_dew_point_temp_k',\n",
    "#        u'reanalysis_max_air_temp_k', u'reanalysis_min_air_temp_k',\n",
    "#        u'reanalysis_precip_amt_kg_per_m2',\n",
    "#        u'reanalysis_relative_humidity_percent',\n",
    "#        u'reanalysis_sat_precip_amt_mm',\n",
    "#        u'reanalysis_specific_humidity_g_per_kg', u'reanalysis_tdtr_k',\n",
    "#        u'station_avg_temp_c', u'station_diur_temp_rng_c',\n",
    "#        u'station_max_temp_c', u'station_min_temp_c', u'station_precip_mm']]\n",
    "final_data.shape"
   ]
  },
  {
   "cell_type": "code",
   "execution_count": 50,
   "metadata": {},
   "outputs": [],
   "source": [
    "# values = {'city': -1, 'year': -1,\n",
    "#           'ndvi_ne': 0, 'ndvi_nw': 0, 'ndvi_se': 0, 'ndvi_sw': 0,\n",
    "#           'precipitation_amt_mm': 0, 'reanalysis_air_temp_k': 0, 'reanalysis_avg_temp_k': 0,\n",
    "#        'reanalysis_dew_point_temp_k': 0, 'reanalysis_max_air_temp_k': 0,\n",
    "#        'reanalysis_min_air_temp_k': 0, 'reanalysis_precip_amt_kg_per_m2': 0,\n",
    "#        'reanalysis_relative_humidity_percent': 0,\n",
    "#        'reanalysis_sat_precip_amt_mm': 0,\n",
    "#        'reanalysis_specific_humidity_g_per_kg': 0, 'reanalysis_tdtr_k': 0,\n",
    "#        'station_avg_temp_c': 0, 'station_diur_temp_rng_c': 0,\n",
    "#        'station_max_temp_c': 0, 'station_min_temp_c':0, 'station_precip_mm':0}\n",
    "final_data = final_data.fillna(0)"
   ]
  },
  {
   "cell_type": "markdown",
   "metadata": {},
   "source": [
    "# Train model"
   ]
  },
  {
   "cell_type": "code",
   "execution_count": 51,
   "metadata": {},
   "outputs": [],
   "source": [
    "import matplotlib.pyplot as plt\n",
    "%matplotlib inline\n",
    "from numpy import genfromtxt"
   ]
  },
  {
   "cell_type": "code",
   "execution_count": 52,
   "metadata": {},
   "outputs": [],
   "source": [
    "def read_dengAI_data():\n",
    "    features = np.array(final_data)#[\"precipitation_amt_mm\"]\n",
    "    labels_arr = targets\n",
    "    return features, labels_arr"
   ]
  },
  {
   "cell_type": "code",
   "execution_count": 53,
   "metadata": {},
   "outputs": [],
   "source": [
    "features,labels = read_dengAI_data()"
   ]
  },
  {
   "cell_type": "code",
   "execution_count": 54,
   "metadata": {},
   "outputs": [
    {
     "data": {
      "text/plain": [
       "(1456, 97)"
      ]
     },
     "execution_count": 54,
     "metadata": {},
     "output_type": "execute_result"
    }
   ],
   "source": [
    "features.shape"
   ]
  },
  {
   "cell_type": "code",
   "execution_count": 55,
   "metadata": {},
   "outputs": [],
   "source": [
    "def append_bias_reshape(features,labels):\n",
    "    n_training_samples = features.shape[0]\n",
    "    n_dim = features.shape[1]\n",
    "    f = np.reshape(np.c_[np.ones(n_training_samples),features],[n_training_samples,n_dim + 1])\n",
    "    l = np.reshape(labels,[n_training_samples,1])\n",
    "    return f, l"
   ]
  },
  {
   "cell_type": "code",
   "execution_count": 56,
   "metadata": {},
   "outputs": [],
   "source": [
    "#  append_bias_reshape(features,labels)"
   ]
  },
  {
   "cell_type": "code",
   "execution_count": 57,
   "metadata": {},
   "outputs": [
    {
     "name": "stderr",
     "output_type": "stream",
     "text": [
      "/home/shreya/anaconda3/lib/python3.6/site-packages/numpy/core/fromnumeric.py:52: FutureWarning: reshape is deprecated and will raise in a subsequent release. Please use .values.reshape(...) instead\n",
      "  return getattr(obj, method)(*args, **kwds)\n"
     ]
    }
   ],
   "source": [
    "f, l = append_bias_reshape(features,labels)\n",
    "n_dim = f.shape[1]\n",
    "\n",
    "rnd_indices = np.random.rand(len(f)) < 0.80\n",
    "\n",
    "train_x = f[rnd_indices]\n",
    "train_y = l[rnd_indices]\n",
    "test_x = f[~rnd_indices]\n",
    "test_y = l[~rnd_indices]"
   ]
  },
  {
   "cell_type": "code",
   "execution_count": 72,
   "metadata": {},
   "outputs": [],
   "source": [
    "learning_rate = 0.0000001\n",
    "training_epochs = 100000\n",
    "cost_history = np.empty(shape=[1],dtype=float)\n",
    "\n",
    "X = tf.placeholder(tf.float32,[None,n_dim])\n",
    "Y = tf.placeholder(tf.float32,[None,1])\n",
    "W = tf.Variable(tf.zeros([n_dim,1]))\n",
    "b = tf.Variable(tf.zeros([1]))\n",
    "\n",
    "init = tf.initialize_all_variables()"
   ]
  },
  {
   "cell_type": "code",
   "execution_count": 73,
   "metadata": {},
   "outputs": [],
   "source": [
    "y_ = tf.add(tf.matmul(X, W), b)\n",
    "cost = tf.reduce_mean(tf.square(y_ - Y))\n",
    "training_step = tf.train.GradientDescentOptimizer(learning_rate).minimize(cost)"
   ]
  },
  {
   "cell_type": "code",
   "execution_count": 74,
   "metadata": {},
   "outputs": [],
   "source": [
    "sess = tf.Session()\n",
    "sess.run(init)\n",
    "\n",
    "for epoch in range(training_epochs):\n",
    "    sess.run(training_step,feed_dict={X:train_x,Y:train_y})\n",
    "    cost_history = np.append(cost_history,sess.run(cost,feed_dict={X: train_x,Y: train_y}))"
   ]
  },
  {
   "cell_type": "code",
   "execution_count": 75,
   "metadata": {},
   "outputs": [
    {
     "data": {
      "image/png": "[encoded data removed]",
      "text/plain": [
       "<matplotlib.figure.Figure at 0x7f517c5b4710>"
      ]
     },
     "metadata": {},
     "output_type": "display_data"
    }
   ],
   "source": [
    "plt.plot(range(len(cost_history)),cost_history)\n",
    "plt.axis([0,training_epochs,0,np.max(cost_history)])\n",
    "plt.show()"
   ]
  },
  {
   "cell_type": "code",
   "execution_count": 76,
   "metadata": {},
   "outputs": [
    {
     "name": "stdout",
     "output_type": "stream",
     "text": [
      "MSE: 0.0141\n"
     ]
    },
    {
     "data": {
      "image/png": "[encoded data removed]",
      "text/plain": [
       "<matplotlib.figure.Figure at 0x7f51801515c0>"
      ]
     },
     "metadata": {},
     "output_type": "display_data"
    }
   ],
   "source": [
    "pred_y = sess.run(y_, feed_dict={X: test_x})\n",
    "mse = tf.reduce_mean(tf.square(pred_y - test_y))\n",
    "print(\"MSE: %.4f\" % sess.run(mse)) \n",
    "\n",
    "fig, ax = plt.subplots()\n",
    "ax.scatter(test_y, pred_y)\n",
    "ax.plot([test_y.min(), test_y.max()], [test_y.min(), test_y.max()], 'k--', lw=3)\n",
    "ax.set_xlabel('Measured')\n",
    "ax.set_ylabel('Predicted')\n",
    "plt.show()"
   ]
  },
  {
   "cell_type": "markdown",
   "metadata": {},
   "source": [
    "# Generate test data results"
   ]
  },
  {
   "cell_type": "code",
   "execution_count": null,
   "metadata": {},
   "outputs": [],
   "source": [
    "data_test = pd.read_csv(\"data/dengue_features_test.csv\")\n",
    "data_test = data_test.drop(\"week_start_date\", axis = 1)\n",
    "\n",
    "print data_test.shape\n",
    "data_test.columns"
   ]
  },
  {
   "cell_type": "code",
   "execution_count": null,
   "metadata": {},
   "outputs": [],
   "source": [
    "index_result = data_test[['city', 'year', \"weekofyear\"]]"
   ]
  },
  {
   "cell_type": "code",
   "execution_count": null,
   "metadata": {},
   "outputs": [],
   "source": [
    "data_test = convert_to_numeric_columns(data_test, ['city', 'year'])\n",
    "final_data_test = data_test.apply(lambda column: normalise_decimal_feature(column), axis=0)\n",
    "features_test = np.array(final_data_test)"
   ]
  },
  {
   "cell_type": "code",
   "execution_count": null,
   "metadata": {},
   "outputs": [],
   "source": [
    "# final_data_test"
   ]
  },
  {
   "cell_type": "code",
   "execution_count": null,
   "metadata": {},
   "outputs": [],
   "source": [
    "pred_y_test = sess.run(y_, feed_dict={X: data_test})"
   ]
  },
  {
   "cell_type": "code",
   "execution_count": null,
   "metadata": {},
   "outputs": [],
   "source": [
    "pred_y_test.shape"
   ]
  },
  {
   "cell_type": "code",
   "execution_count": null,
   "metadata": {},
   "outputs": [],
   "source": [
    "index_result[\"total_cases\"] = pred_y_test"
   ]
  },
  {
   "cell_type": "code",
   "execution_count": null,
   "metadata": {},
   "outputs": [],
   "source": []
  },
  {
   "cell_type": "code",
   "execution_count": null,
   "metadata": {},
   "outputs": [],
   "source": []
  },
  {
   "cell_type": "code",
   "execution_count": null,
   "metadata": {},
   "outputs": [],
   "source": [
    "sess.close()"
   ]
  },
  {
   "cell_type": "code",
   "execution_count": null,
   "metadata": {},
   "outputs": [],
   "source": []
  }
 ],
 "metadata": {
  "kernelspec": {
   "display_name": "Python 3",
   "language": "python",
   "name": "python3"
  },
  "language_info": {
   "codemirror_mode": {
    "name": "ipython",
    "version": 3
   },
   "file_extension": ".py",
   "mimetype": "text/x-python",
   "name": "python",
   "nbconvert_exporter": "python",
   "pygments_lexer": "ipython3",
   "version": "3.6.4"
  }
 },
 "nbformat": 4,
 "nbformat_minor": 2
}
